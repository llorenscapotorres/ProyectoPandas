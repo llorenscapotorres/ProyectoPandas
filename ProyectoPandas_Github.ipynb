{
 "cells": [
  {
   "cell_type": "markdown",
   "metadata": {},
   "source": [
    "# Proyecto 1. Pandas\n",
    "Con el fichero Fichero `sample_NYC_parking_issues.csv`\n",
    "\n",
    "\n",
    "**Importante:** los cambios se arrastran en las siguientes preguntas.\n",
    "\n",
    "\n",
    "### Crea un proyecto en Github para esta entrega e incluye un fichero Readme.md\n",
    "Asegurate que es público ya que solo se puede entregar la URL del proyecto en github.\n",
    "<hr/>"
   ]
  },
  {
   "cell_type": "markdown",
   "metadata": {},
   "source": [
    "Llorenç Capó Torres"
   ]
  },
  {
   "cell_type": "markdown",
   "metadata": {},
   "source": [
    "### A) Limpia el dataframe de aquellas columnas con todos sus campos a NAN"
   ]
  },
  {
   "cell_type": "code",
   "execution_count": 1,
   "metadata": {},
   "outputs": [],
   "source": [
    "import pandas as pd"
   ]
  },
  {
   "cell_type": "code",
   "execution_count": 6,
   "metadata": {},
   "outputs": [
    {
     "data": {
      "text/html": [
       "<div>\n",
       "<style scoped>\n",
       "    .dataframe tbody tr th:only-of-type {\n",
       "        vertical-align: middle;\n",
       "    }\n",
       "\n",
       "    .dataframe tbody tr th {\n",
       "        vertical-align: top;\n",
       "    }\n",
       "\n",
       "    .dataframe thead th {\n",
       "        text-align: right;\n",
       "    }\n",
       "</style>\n",
       "<table border=\"1\" class=\"dataframe\">\n",
       "  <thead>\n",
       "    <tr style=\"text-align: right;\">\n",
       "      <th></th>\n",
       "      <th>Summons Number</th>\n",
       "      <th>Plate ID</th>\n",
       "      <th>Registration State</th>\n",
       "      <th>Plate Type</th>\n",
       "      <th>Issue Date</th>\n",
       "      <th>Violation Code</th>\n",
       "      <th>Vehicle Body Type</th>\n",
       "      <th>Vehicle Make</th>\n",
       "      <th>Issuing Agency</th>\n",
       "      <th>Street Code1</th>\n",
       "      <th>...</th>\n",
       "      <th>Vehicle Color</th>\n",
       "      <th>Unregistered Vehicle?</th>\n",
       "      <th>Vehicle Year</th>\n",
       "      <th>Meter Number</th>\n",
       "      <th>Feet From Curb</th>\n",
       "      <th>Violation Post Code</th>\n",
       "      <th>Violation Description</th>\n",
       "      <th>No Standing or Stopping Violation</th>\n",
       "      <th>Hydrant Violation</th>\n",
       "      <th>Double Parking Violation</th>\n",
       "    </tr>\n",
       "  </thead>\n",
       "  <tbody>\n",
       "    <tr>\n",
       "      <th>7192124</th>\n",
       "      <td>7684215310</td>\n",
       "      <td>24824MD</td>\n",
       "      <td>NY</td>\n",
       "      <td>COM</td>\n",
       "      <td>04/23/2014</td>\n",
       "      <td>71</td>\n",
       "      <td>VAN</td>\n",
       "      <td>FRIG</td>\n",
       "      <td>T</td>\n",
       "      <td>9540</td>\n",
       "      <td>...</td>\n",
       "      <td>WH</td>\n",
       "      <td>NaN</td>\n",
       "      <td>2004.0</td>\n",
       "      <td>NaN</td>\n",
       "      <td>0.0</td>\n",
       "      <td>01 4</td>\n",
       "      <td>71A-Insp Sticker Expired (NYS)</td>\n",
       "      <td>NaN</td>\n",
       "      <td>NaN</td>\n",
       "      <td>NaN</td>\n",
       "    </tr>\n",
       "    <tr>\n",
       "      <th>1399831</th>\n",
       "      <td>5070680213</td>\n",
       "      <td>9TOPCLAS</td>\n",
       "      <td>NY</td>\n",
       "      <td>OMT</td>\n",
       "      <td>09/14/2013</td>\n",
       "      <td>7</td>\n",
       "      <td>4DSD</td>\n",
       "      <td>DODGE</td>\n",
       "      <td>V</td>\n",
       "      <td>0</td>\n",
       "      <td>...</td>\n",
       "      <td>BK</td>\n",
       "      <td>NaN</td>\n",
       "      <td>2008.0</td>\n",
       "      <td>NaN</td>\n",
       "      <td>0.0</td>\n",
       "      <td>NaN</td>\n",
       "      <td>FAILURE TO STOP AT RED LIGHT</td>\n",
       "      <td>NaN</td>\n",
       "      <td>NaN</td>\n",
       "      <td>NaN</td>\n",
       "    </tr>\n",
       "    <tr>\n",
       "      <th>5369188</th>\n",
       "      <td>1356951855</td>\n",
       "      <td>GEL1573</td>\n",
       "      <td>NY</td>\n",
       "      <td>PAS</td>\n",
       "      <td>02/13/2014</td>\n",
       "      <td>71</td>\n",
       "      <td>SUBN</td>\n",
       "      <td>HONDA</td>\n",
       "      <td>P</td>\n",
       "      <td>11710</td>\n",
       "      <td>...</td>\n",
       "      <td>NaN</td>\n",
       "      <td>0.0</td>\n",
       "      <td>2006.0</td>\n",
       "      <td>-</td>\n",
       "      <td>0.0</td>\n",
       "      <td>NaN</td>\n",
       "      <td>NaN</td>\n",
       "      <td>NaN</td>\n",
       "      <td>NaN</td>\n",
       "      <td>NaN</td>\n",
       "    </tr>\n",
       "    <tr>\n",
       "      <th>6338606</th>\n",
       "      <td>7713806271</td>\n",
       "      <td>EDU1026</td>\n",
       "      <td>NY</td>\n",
       "      <td>PAS</td>\n",
       "      <td>03/20/2014</td>\n",
       "      <td>21</td>\n",
       "      <td>SUBN</td>\n",
       "      <td>TOYOT</td>\n",
       "      <td>T</td>\n",
       "      <td>24440</td>\n",
       "      <td>...</td>\n",
       "      <td>GY</td>\n",
       "      <td>NaN</td>\n",
       "      <td>2008.0</td>\n",
       "      <td>NaN</td>\n",
       "      <td>0.0</td>\n",
       "      <td>14 4</td>\n",
       "      <td>21-No Parking (street clean)</td>\n",
       "      <td>NaN</td>\n",
       "      <td>NaN</td>\n",
       "      <td>NaN</td>\n",
       "    </tr>\n",
       "    <tr>\n",
       "      <th>2823881</th>\n",
       "      <td>7645478044</td>\n",
       "      <td>DXX6460</td>\n",
       "      <td>NY</td>\n",
       "      <td>PAS</td>\n",
       "      <td>11/01/2013</td>\n",
       "      <td>20</td>\n",
       "      <td>4DSD</td>\n",
       "      <td>HONDA</td>\n",
       "      <td>T</td>\n",
       "      <td>54790</td>\n",
       "      <td>...</td>\n",
       "      <td>MR</td>\n",
       "      <td>NaN</td>\n",
       "      <td>1996.0</td>\n",
       "      <td>NaN</td>\n",
       "      <td>0.0</td>\n",
       "      <td>03-A</td>\n",
       "      <td>20A-No Parking (Non-COM)</td>\n",
       "      <td>NaN</td>\n",
       "      <td>NaN</td>\n",
       "      <td>NaN</td>\n",
       "    </tr>\n",
       "  </tbody>\n",
       "</table>\n",
       "<p>5 rows × 43 columns</p>\n",
       "</div>"
      ],
      "text/plain": [
       "         Summons Number  Plate ID Registration State Plate Type  Issue Date  \\\n",
       "7192124      7684215310   24824MD                 NY        COM  04/23/2014   \n",
       "1399831      5070680213  9TOPCLAS                 NY        OMT  09/14/2013   \n",
       "5369188      1356951855   GEL1573                 NY        PAS  02/13/2014   \n",
       "6338606      7713806271   EDU1026                 NY        PAS  03/20/2014   \n",
       "2823881      7645478044   DXX6460                 NY        PAS  11/01/2013   \n",
       "\n",
       "         Violation Code Vehicle Body Type Vehicle Make Issuing Agency  \\\n",
       "7192124              71               VAN         FRIG              T   \n",
       "1399831               7              4DSD        DODGE              V   \n",
       "5369188              71              SUBN        HONDA              P   \n",
       "6338606              21              SUBN        TOYOT              T   \n",
       "2823881              20              4DSD        HONDA              T   \n",
       "\n",
       "         Street Code1  ...  Vehicle Color  Unregistered Vehicle?  \\\n",
       "7192124          9540  ...             WH                    NaN   \n",
       "1399831             0  ...             BK                    NaN   \n",
       "5369188         11710  ...            NaN                    0.0   \n",
       "6338606         24440  ...             GY                    NaN   \n",
       "2823881         54790  ...             MR                    NaN   \n",
       "\n",
       "         Vehicle Year  Meter Number  Feet From Curb  Violation Post Code  \\\n",
       "7192124        2004.0           NaN             0.0                 01 4   \n",
       "1399831        2008.0           NaN             0.0                  NaN   \n",
       "5369188        2006.0             -             0.0                  NaN   \n",
       "6338606        2008.0           NaN             0.0                 14 4   \n",
       "2823881        1996.0           NaN             0.0                 03-A   \n",
       "\n",
       "                  Violation Description No Standing or Stopping Violation  \\\n",
       "7192124  71A-Insp Sticker Expired (NYS)                               NaN   \n",
       "1399831    FAILURE TO STOP AT RED LIGHT                               NaN   \n",
       "5369188                             NaN                               NaN   \n",
       "6338606    21-No Parking (street clean)                               NaN   \n",
       "2823881        20A-No Parking (Non-COM)                               NaN   \n",
       "\n",
       "        Hydrant Violation Double Parking Violation  \n",
       "7192124               NaN                      NaN  \n",
       "1399831               NaN                      NaN  \n",
       "5369188               NaN                      NaN  \n",
       "6338606               NaN                      NaN  \n",
       "2823881               NaN                      NaN  \n",
       "\n",
       "[5 rows x 43 columns]"
      ]
     },
     "execution_count": 6,
     "metadata": {},
     "output_type": "execute_result"
    }
   ],
   "source": [
    "parking = pd.read_csv(\"C:/Users/Llorenç/Documents/Tecnologias/EntregaPandasGit/ProyectoPandas/sample_NYC_parking_issues.csv\", sep=\";\", header=0, index_col=0)\n",
    "parking.head()"
   ]
  },
  {
   "cell_type": "code",
   "execution_count": 8,
   "metadata": {},
   "outputs": [
    {
     "data": {
      "text/plain": [
       "True"
      ]
     },
     "execution_count": 8,
     "metadata": {},
     "output_type": "execute_result"
    }
   ],
   "source": [
    "parking_cleaned = parking.dropna(axis=1, how=\"all\")\n",
    "len(parking_cleaned.columns) < len(parking.columns)"
   ]
  },
  {
   "cell_type": "markdown",
   "metadata": {},
   "source": [
    "### B) Elimina todas las muestras donde la fecha no tenga coherencia: `Vehicle Year`, además transformalas a enteros (2024,2012,2006,etc.)"
   ]
  },
  {
   "cell_type": "code",
   "execution_count": 19,
   "metadata": {},
   "outputs": [],
   "source": [
    "year_min = 1900\n",
    "year_max = pd.Timestamp.now().year\n",
    "parking_cleaned['Vehicle Year'] = parking_cleaned['Vehicle Year'].astype(int)"
   ]
  },
  {
   "cell_type": "code",
   "execution_count": 18,
   "metadata": {},
   "outputs": [],
   "source": [
    "parking_cleaned = parking_cleaned[(parking_cleaned['Vehicle Year'] >= year_min) & (parking_cleaned['Vehicle Year'] <= year_max)]"
   ]
  },
  {
   "cell_type": "code",
   "execution_count": 22,
   "metadata": {},
   "outputs": [
    {
     "data": {
      "text/plain": [
       "True"
      ]
     },
     "execution_count": 22,
     "metadata": {},
     "output_type": "execute_result"
    }
   ],
   "source": [
    "parking_cleaned.shape[0] < parking.shape[0]"
   ]
  },
  {
   "cell_type": "markdown",
   "metadata": {},
   "source": [
    "### C) Hay marcas de vehículos que no guardan sentido con ninguna marca real (`Vehicle Make`) elimina dichas muestras. Deja constancia de cuantas has borrado."
   ]
  },
  {
   "cell_type": "code",
   "execution_count": 25,
   "metadata": {},
   "outputs": [
    {
     "data": {
      "text/plain": [
       "array(['FRIG', 'DODGE', 'HONDA', 'TOYOT', 'VOLKS', 'INTER', 'FORD', 'GMC',\n",
       "       'ME/BE', 'NISSA', 'CHEVR', 'INFIN', 'LEXUS', 'VOLVO', 'MERCU',\n",
       "       'ACURA', 'NS/OT', 'BMW', 'PETER', 'LINCO', 'ISUZU', 'FRUEH',\n",
       "       'CHRYS', 'CADIL', 'WORK', 'SUBAR', 'HYUND', 'SAAB', 'PREV',\n",
       "       'PONTI', 'MITSU', 'ROVER', 'JEEP', 'MAZDA', 'LEXCO', 'WORKH',\n",
       "       'PORSC', 'FREI', 'AUDI', 'MACK', 'HINO', 'KIA', 'KENWO', 'BENTL',\n",
       "       'UTIL', 'JAGUA', 'SOLEC', nan, 'MI/F', 'MINI', 'BUICK', 'SATUR',\n",
       "       'NAVIS', 'STARC', 'OLDSM', 'VAN H', 'SMITH', 'UD', 'PRATT',\n",
       "       'FR/LI', 'CHEET', 'SMART', 'UTITY', 'PREVO', 'PLYMO', 'SUZUK',\n",
       "       'HUMME', 'W', 'KAWAS', 'FIAT', 'FR/L', 'FR L', 'FRGHT', 'ICENE',\n",
       "       'UTILI', 'WO/C', 'THD', 'VESPA', 'GEM', 'WHITE', 'CHECK', 'RNG R',\n",
       "       'WANC', 'VOLU', 'LIMO', 'BL/B', 'KENW', 'KRYS', 'MCI', 'KW', 'SZI',\n",
       "       'STAR', 'UPS', 'HERCU', 'GIDNY', 'SPRI', 'VL', 'WOR', 'AMC',\n",
       "       'PUTEL', 'FRG'], dtype=object)"
      ]
     },
     "execution_count": 25,
     "metadata": {},
     "output_type": "execute_result"
    }
   ],
   "source": [
    "parking_cleaned[\"Vehicle Make\"].unique()"
   ]
  },
  {
   "cell_type": "code",
   "execution_count": 26,
   "metadata": {},
   "outputs": [
    {
     "name": "stdout",
     "output_type": "stream",
     "text": [
      "Se eliminaron 3894 filas con marcas no válidas.\n"
     ]
    }
   ],
   "source": [
    "marcas_validas = {\n",
    "    'DODGE', 'HONDA', 'TOYOTA', 'VOLKSWAGEN', 'FORD', 'GMC', 'NISSAN', 'CHEVROLET', \n",
    "    'INFINITI', 'LEXUS', 'VOLVO', 'MERCEDES-BENZ', 'ACURA', 'BMW', 'LINCOLN', \n",
    "    'ISUZU', 'CHRYSLER', 'CADILLAC', 'SUBARU', 'HYUNDAI', 'SAAB', 'PONTIAC', \n",
    "    'MITSUBISHI', 'LAND ROVER', 'JEEP', 'MAZDA', 'PORSCHE', 'AUDI', 'MACK', \n",
    "    'HINO', 'KIA', 'BENTLEY', 'JAGUAR', 'MINI', 'BUICK', 'SATURN', 'OLDSMOBILE', \n",
    "    'SUZUKI', 'HUMMER', 'FIAT', 'SMART', 'VESPA', 'WHITE', 'KENWORTH', 'FREIGHTLINER', \n",
    "    'INTERNATIONAL', 'WORKHORSE', 'UTILITY', 'NAVISTAR', 'STARCRAFT', 'GEM', \n",
    "    'SPRINTER', 'MERCURY', 'AMC', 'PLYMOUTH'\n",
    "}\n",
    "\n",
    "filas_originales = len(parking_cleaned)\n",
    "parking_cleaned = parking_cleaned[parking_cleaned['Vehicle Make'].str.upper().isin(marcas_validas)]\n",
    "filas_filtradas = len(parking_cleaned)\n",
    "filas_eliminadas = filas_originales - filas_filtradas\n",
    "print(f\"Se eliminaron {filas_eliminadas} filas con marcas no válidas.\")"
   ]
  },
  {
   "cell_type": "markdown",
   "metadata": {
    "vscode": {
     "languageId": "plaintext"
    }
   },
   "source": [
    "### D) Representa en un grafíco de barras la cantidad de vehículos (por marca `Vehicle Make`) "
   ]
  },
  {
   "cell_type": "code",
   "execution_count": 27,
   "metadata": {},
   "outputs": [],
   "source": [
    "import matplotlib.pyplot as plt"
   ]
  },
  {
   "cell_type": "code",
   "execution_count": null,
   "metadata": {},
   "outputs": [],
   "source": [
    "dicc_marcas = parking_cleaned['Vehicle Make'].value_counts()\n",
    "\n",
    "plt.figure(figsize=(12, 6))\n",
    "conteo_marcas.plot(kind='bar', color='skyblue')\n",
    "plt.xlabel('Marca del Vehículo')\n",
    "plt.ylabel('Cantidad de Vehículos')\n",
    "plt.title('Cantidad de Vehículos por Marca')\n",
    "plt.xticks(rotation=45, ha='right')\n",
    "plt.tight_layout()\n",
    "plt.show()"
   ]
  },
  {
   "cell_type": "markdown",
   "metadata": {},
   "source": [
    "### E) Unifica lo máximo que puedas la terminología de colores. Por ejemplo, valores como `WH` y `wh`y `wh\\`hacen referencia al `white`"
   ]
  },
  {
   "cell_type": "code",
   "execution_count": null,
   "metadata": {},
   "outputs": [],
   "source": []
  },
  {
   "cell_type": "markdown",
   "metadata": {},
   "source": [
    "### F) Representa en un gráfico de barras las marca de vehículo segmentadas por colores de vehículos."
   ]
  },
  {
   "cell_type": "code",
   "execution_count": null,
   "metadata": {},
   "outputs": [],
   "source": []
  },
  {
   "cell_type": "markdown",
   "metadata": {},
   "source": [
    "### H) Subé este código a tu repositorio. Incluye un documento Readme.md Indicando tan solo: \"H\""
   ]
  },
  {
   "cell_type": "markdown",
   "metadata": {},
   "source": [
    "### I) Convierte la serie `Issue Date` en una serie temporal y contabiliza las multas por `Violation Code[] y més del Issue Date."
   ]
  },
  {
   "cell_type": "code",
   "execution_count": null,
   "metadata": {},
   "outputs": [],
   "source": []
  },
  {
   "cell_type": "markdown",
   "metadata": {},
   "source": [
    "### J) Visualiza la anterior cuestión (I)"
   ]
  },
  {
   "cell_type": "markdown",
   "metadata": {},
   "source": []
  },
  {
   "cell_type": "markdown",
   "metadata": {},
   "source": [
    "### K) Subé este código a tu repositorio. Sustituye la 'H' del readme.md por un 'end'"
   ]
  },
  {
   "cell_type": "markdown",
   "metadata": {},
   "source": []
  }
 ],
 "metadata": {
  "kernelspec": {
   "display_name": "Python 3",
   "language": "python",
   "name": "python3"
  },
  "language_info": {
   "codemirror_mode": {
    "name": "ipython",
    "version": 3
   },
   "file_extension": ".py",
   "mimetype": "text/x-python",
   "name": "python",
   "nbconvert_exporter": "python",
   "pygments_lexer": "ipython3",
   "version": "3.11.9"
  }
 },
 "nbformat": 4,
 "nbformat_minor": 2
}
